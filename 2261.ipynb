{
 "cells": [
  {
   "cell_type": "markdown",
   "metadata": {},
   "source": [
    "https://www.acmicpc.net/problem/2261"
   ]
  },
  {
   "cell_type": "markdown",
   "metadata": {},
   "source": [
    "가장 가까운 두 점 (분할정복)"
   ]
  },
  {
   "cell_type": "code",
   "execution_count": null,
   "metadata": {},
   "outputs": [],
   "source": [
    "import sys\n",
    "sys.stdin = open(\"D:/OneDrive/2. Project/98. PS/code/2261.txt\", \"r\") \n",
    "n = int(sys.stdin.readline().strip())\n",
    "pnt = [list(map(int, sys.stdin.readline().split())) for _ in range(n)]\n",
    "pnt.sort()\n",
    "\n",
    "def dist(a, b): # sqrt of Euclidean distance\n",
    "    return (a[0] - b[0])**2 + (a[1] - b[1])**2\n",
    "\n",
    "def DivConq(start, end):\n",
    "    if start == end:\n",
    "        return 100000 # maximum range\n",
    "    elif end - start == 1:\n",
    "        return dist(pnt[start], pnt[end])\n",
    "\n",
    "    mid = (start + end) // 2\n",
    "    min_dist = min(DivConq(start, mid), DivConq(mid, end))\n",
    "    min_dist_root = min_dist**(1/2) # faster than 33%!\n",
    "    pnt_grey = []\n",
    "    for i in range(start, end+1):\n",
    "        if abs(pnt[i][0] - pnt[mid][0]) < min_dist_root:\n",
    "            pnt_grey.append(pnt[i])\n",
    "\n",
    "    pnt_grey.sort(key=lambda x: x[1])\n",
    "\n",
    "    for i in range(len(pnt_grey)-1):\n",
    "        for j in range(i+1, len(pnt_grey)):\n",
    "            if abs(pnt_grey[i][1] - pnt_grey[j][1]) < min_dist_root:\n",
    "                min_dist = min(min_dist, dist(pnt_grey[i], pnt_grey[j]))\n",
    "                min_dist_root = min_dist**(1/2)\n",
    "            else:\n",
    "                break\n",
    "\n",
    "    return min_dist\n",
    "\n",
    "print(DivConq(0, n-1))"
   ]
  },
  {
   "cell_type": "markdown",
   "metadata": {},
   "source": [
    "가장 가까운 두 점 (sweep line)"
   ]
  },
  {
   "cell_type": "code",
   "execution_count": 1,
   "metadata": {},
   "outputs": [
    {
     "name": "stdout",
     "output_type": "stream",
     "text": [
      "1249\n"
     ]
    }
   ],
   "source": [
    "import sys\n",
    "sys.stdin = open(\"D:/OneDrive/2. Project/98. PS/code/2261.txt\", \"r\") \n",
    "input = sys.stdin.readline\n",
    "\n",
    "from collections import defaultdict, deque\n",
    "\n",
    "def BOJ_2261():\n",
    "    n = int(input())\n",
    "    pts = []\n",
    "    for _ in range(n):\n",
    "        x,y = map(int,input().split())\n",
    "        pts.append(x + y*1j)\n",
    "    pts = sorted(pts, key=lambda x: x.real)\n",
    "\n",
    "    min_ = min(abs(pts[i + 1] - pts[i]) for i in range(len(pts) - 1))\n",
    "    if min_ in [0,1]:\n",
    "        return print(round(min_**2))\n",
    "\n",
    "    group = [int(p.imag // min_) for p in pts]\n",
    "\n",
    "    candidate = defaultdict(deque)\n",
    "    start = 0\n",
    "    for idx, p1 in enumerate(pts):\n",
    "        while min_ <= p1.real - pts[start].real:\n",
    "            i = candidate[group[start]].popleft()\n",
    "            assert start == i, (start, i)\n",
    "            start += 1\n",
    "\n",
    "        for k in range(group[idx] - 1, group[idx] + 2):\n",
    "            if k not in candidate:\n",
    "                continue\n",
    "            for i in candidate[k]:\n",
    "                min_ = min(min_, abs(pts[i] - p1))\n",
    "        candidate[group[idx]].append(idx)\n",
    "    print(round(min_**2))\n",
    "BOJ_2261()"
   ]
  }
 ],
 "metadata": {
  "kernelspec": {
   "display_name": "Python 3",
   "language": "python",
   "name": "python3"
  },
  "language_info": {
   "codemirror_mode": {
    "name": "ipython",
    "version": 3
   },
   "file_extension": ".py",
   "mimetype": "text/x-python",
   "name": "python",
   "nbconvert_exporter": "python",
   "pygments_lexer": "ipython3",
   "version": "3.9.13"
  },
  "orig_nbformat": 4
 },
 "nbformat": 4,
 "nbformat_minor": 2
}
