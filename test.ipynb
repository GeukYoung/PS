{
 "cells": [
  {
   "cell_type": "code",
   "execution_count": 3,
   "metadata": {},
   "outputs": [
    {
     "ename": "KeyboardInterrupt",
     "evalue": "",
     "output_type": "error",
     "traceback": [
      "\u001b[1;31m---------------------------------------------------------------------------\u001b[0m",
      "\u001b[1;31mKeyboardInterrupt\u001b[0m                         Traceback (most recent call last)",
      "Cell \u001b[1;32mIn[3], line 11\u001b[0m\n\u001b[0;32m      8\u001b[0m     \u001b[39mreturn\u001b[39;00m fibList\n\u001b[0;32m     10\u001b[0m start \u001b[39m=\u001b[39m time\u001b[39m.\u001b[39mtime()\n\u001b[1;32m---> 11\u001b[0m fibList \u001b[39m=\u001b[39m fib(\u001b[39m920000\u001b[39;49m)\n\u001b[0;32m     12\u001b[0m \u001b[39mprint\u001b[39m(fibList)\n\u001b[0;32m     13\u001b[0m \u001b[39mprint\u001b[39m(time\u001b[39m.\u001b[39mtime()\u001b[39m-\u001b[39mstart)\n",
      "Cell \u001b[1;32mIn[3], line 7\u001b[0m, in \u001b[0;36mfib\u001b[1;34m(n)\u001b[0m\n\u001b[0;32m      5\u001b[0m     \u001b[39mreturn\u001b[39;00m \u001b[39m1\u001b[39m\n\u001b[0;32m      6\u001b[0m \u001b[39mfor\u001b[39;00m i \u001b[39min\u001b[39;00m \u001b[39mrange\u001b[39m(\u001b[39m2\u001b[39m,n):\n\u001b[1;32m----> 7\u001b[0m     fibList\u001b[39m.\u001b[39;49mappend( fibList[i\u001b[39m-\u001b[39;49m\u001b[39m1\u001b[39;49m] \u001b[39m+\u001b[39;49m fibList[i\u001b[39m-\u001b[39;49m\u001b[39m2\u001b[39;49m] )\n\u001b[0;32m      8\u001b[0m \u001b[39mreturn\u001b[39;00m fibList\n",
      "\u001b[1;31mKeyboardInterrupt\u001b[0m: "
     ]
    }
   ],
   "source": [
    "import time\n",
    "def fib(n):\n",
    "    fibList=[1, 1]\n",
    "    if n==1 or n==2:\n",
    "        return 1\n",
    "    for i in range(2,n):\n",
    "        fibList.append( fibList[i-1] + fibList[i-2] )\n",
    "    return fibList\n",
    "\n",
    "start = time.time()\n",
    "fibList = fib(9200)\n",
    "print(fibList)\n",
    "print(time.time()-start)\n",
    "\n",
    "start = time.time()\n",
    "fib = lambda n: 1 if n<=2 else fib(n-1) + fib(n-2)\n",
    "fib(10)\n",
    "print(time.time()-start)\n",
    "\n",
    "start = time.time()\n",
    "fib = lambda n, a=0, b=1 : a if n<=0 else fib(n-1,b, a+b)\n",
    "fib(1200)\n",
    "print(time.time()-start)"
   ]
  },
  {
   "cell_type": "code",
   "execution_count": null,
   "metadata": {},
   "outputs": [],
   "source": [
    "import time\n",
    "def fib(P,n):\n",
    "    fibList=[1, 1]\n",
    "    if P==1 or P==2:\n",
    "        return 1\n",
    "    for i in range(2,P):\n",
    "        fibList.append(fibList[i-1] + fibList[i-2])\n",
    "        if n == fibList[i]:\n",
    "            return i+1\n",
    "    return -1\n",
    "\n",
    "M = 10**13\n",
    "P = 15*(10**12)\n",
    "N = 10^1\n",
    "# n_quo, n_rem = n // P, n % P\n",
    "print(fib(P,N))\n",
    "\n",
    "# start = time.time()\n",
    "# fibList = fib(9200)\n",
    "# print(time.time()-start)"
   ]
  },
  {
   "cell_type": "code",
   "execution_count": null,
   "metadata": {},
   "outputs": [],
   "source": [
    "import time\n",
    "from collections import deque\n",
    "\n",
    "def fib(P,n):\n",
    "    # dp1, dp2 = deque(), deque()\n",
    "    # dp1.append(1)\n",
    "    # dp2.append(1)\n",
    "    fiblist = deque()\n",
    "    fiblist.append(1)\n",
    "    fiblist.append(1)\n",
    "    for i in range(2,P):\n",
    "        fiblist.append(fiblist[0]+fiblist[1])\n",
    "        fiblist.popleft\n",
    "        if n == fiblist[1]:\n",
    "            return i+1\n",
    "    return -1\n",
    "\n",
    "M = 10**13\n",
    "P = 15*(10**12)\n",
    "N = 10^1\n",
    "# n_quo, n_rem = n // P, n % P\n",
    "print(fib(P,N))\n",
    "\n",
    "# start = time.time()\n",
    "# fibList = fib(9200)\n",
    "# print(time.time()-start)"
   ]
  },
  {
   "cell_type": "code",
   "execution_count": 47,
   "metadata": {},
   "outputs": [
    {
     "name": "stdout",
     "output_type": "stream",
     "text": [
      "[7, 1484, 1493]\n",
      "True\n",
      "True\n",
      "True\n",
      "True\n",
      "True\n",
      "True\n",
      "True\n",
      "True\n",
      "True\n",
      "True\n",
      "True\n",
      "True\n",
      "True\n",
      "True\n",
      "True\n",
      "True\n",
      "True\n",
      "True\n",
      "True\n",
      "True\n",
      "True\n",
      "True\n",
      "True\n",
      "True\n",
      "True\n",
      "True\n",
      "True\n",
      "True\n",
      "True\n",
      "True\n",
      "[7, 1484, 1493]\n"
     ]
    }
   ],
   "source": [
    "import time\n",
    "from collections import deque\n",
    "\n",
    "def getFibo(t1):\n",
    "    n_modeM = N % M\n",
    "    candidate = []\n",
    "    a = 1\n",
    "    b = 0\n",
    "    c = a\n",
    "    for i in range(1,t1+1):\n",
    "        c = (a + b) % M\n",
    "        a = b\n",
    "        b = c\n",
    "    if c == n_modeM:\n",
    "        return True\n",
    "    else:\n",
    "        return False\n",
    "    \n",
    "def fibo_in_pesano(P,n):\n",
    "    n_modeM = n % M\n",
    "    candidate = []\n",
    "    a = 1\n",
    "    b = 0\n",
    "    c = a\n",
    "    for i in range(1,P): # (0 + [1~P])\n",
    "        c = (a + b) % M\n",
    "        a = b\n",
    "        b = c\n",
    "        if n_modeM == c:\n",
    "            candidate.append(i)\n",
    "    return candidate\n",
    "\n",
    "k = 3\n",
    "M = 10**k\n",
    "P = 15*(10**(k-1))\n",
    "\n",
    "N = 13\n",
    "\n",
    "candidate = fibo_in_pesano(P,N)\n",
    "print(candidate)\n",
    "for i in candidate:\n",
    "    for j in range(10):\n",
    "        print(getFibo(i + j * P))\n",
    "        # (getFibo(candidate + j * P) == n % M)\n",
    "\n",
    "\n",
    "# n_quo, n_rem = n // P, n % P\n",
    "print(fibo_in_pesano(P,N))\n",
    "\n",
    "# start = time.time()\n",
    "# fibList = fib(9200)\n",
    "# print(time.time()-start)"
   ]
  },
  {
   "cell_type": "markdown",
   "metadata": {},
   "source": [
    "K를 13에서 3까지 쪼개어 갈 때, 한단계 낮은 K의 피사노 주기에서는 같은 mod가 10개씩 반복적으로 들어있기 때문에 어느것의 위치가 상위 피사노 주기 인덱스기준 정답위치인지 판별 불가. 따라서 bottom-top으로 갈 때, 10개의 주기(m*10^(k-1): m=0:9) 의 각각의 인덱스에서 다음 K번째의 mod를 넣어보는 작업으로 정답의 후보인지 아닌지 재검출함."
   ]
  },
  {
   "cell_type": "markdown",
   "metadata": {},
   "source": [
    "https://hapby9921.tistory.com/entry/BOJ-13729-1013-%ED%94%BC%EB%B3%B4%EB%82%98%EC%B9%98"
   ]
  },
  {
   "cell_type": "code",
   "execution_count": 154,
   "metadata": {},
   "outputs": [
    {
     "name": "stdout",
     "output_type": "stream",
     "text": [
      "9366795780274\n"
     ]
    }
   ],
   "source": [
    "import sys\n",
    "# sys.stdin = open(\"D:/test.txt\", \"r\") \n",
    "\n",
    "def Mat_mul(A, B, M):\n",
    "    C = [[0] * 2 for _ in range(2)]\n",
    "    for i in range(2):\n",
    "        for j in range(2):\n",
    "            for k in range(2):\n",
    "                C[i][j] += (A[i][k] * B[k][j])\n",
    "                C[i][j] %= M\n",
    "    return C\n",
    "\n",
    "def Pesano(k):\n",
    "    M, P = 10**k, 15*(10**(k-1))\n",
    "    return M, P\n",
    "\n",
    "def Fibo_gen(idx, M):\n",
    "    mat_ans = [[1, 0], [0, 1]]\n",
    "    mat_unit = [[1, 1], [1, 0]]\n",
    "\n",
    "    while idx > 0:\n",
    "        if idx & 1:\n",
    "            mat_ans = Mat_mul(mat_ans, mat_unit, M)\n",
    "        mat_unit = Mat_mul(mat_unit, mat_unit, M)\n",
    "        idx >>= 1\n",
    "    return mat_ans[1][0]\n",
    "\n",
    "def Pesano_period(M,P,N):\n",
    "    n_modeM = N % M\n",
    "    a = 1\n",
    "    b = 0\n",
    "    c = a\n",
    "    candidate = []\n",
    "    for i in range(P): # (0 + [1~P])\n",
    "        c = (a + b) % M\n",
    "        a = b\n",
    "        b = c\n",
    "        if n_modeM == c:\n",
    "            candidate.append(i+1) # put 0 in first idx\n",
    "    return candidate\n",
    "\n",
    "def solve(N):\n",
    "    k = 3\n",
    "    M,P = Pesano(k)\n",
    "    candidate = Pesano_period(M,P,N) # minimum pesano(k=3) candidate\n",
    "    M *= 10 # compare with next mod\n",
    "    for k in range(3,13):\n",
    "        temp = []\n",
    "        for idx in candidate:\n",
    "            for m in range(10):\n",
    "                if Fibo_gen(idx + m*P, M)%M == N % M:\n",
    "                    temp.append(idx + m*P)\n",
    "        candidate = temp[:]\n",
    "        M, P = M*10, P*10 # bottom-top\n",
    "    # if len(candidate) == 0:\n",
    "    #     ans = -1\n",
    "    # else:\n",
    "    #     ans = min(candidate)\n",
    "    print(-1 if len(candidate) == 0 else min(candidate))\n",
    "\n",
    "# N = int(sys.stdin.readline().strip())\n",
    "N = 10^12+1\n",
    "solve(N)"
   ]
  },
  {
   "cell_type": "code",
   "execution_count": 244,
   "metadata": {},
   "outputs": [
    {
     "name": "stdout",
     "output_type": "stream",
     "text": [
      "9366795780274\n"
     ]
    }
   ],
   "source": [
    "import sys\n",
    "\n",
    "def Mat_mul(A, B, M):\n",
    "    C = [[0] * 2 for _ in range(2)]\n",
    "    for i in range(2):\n",
    "        for j in range(2):\n",
    "            for k in range(2):\n",
    "                C[i][j] += (A[i][k] * B[k][j])\n",
    "                C[i][j] %= M\n",
    "    return C\n",
    "\n",
    "def Pesano(k):\n",
    "    M, P = 10**k, 15*(10**(k-1))\n",
    "    return M, P\n",
    "\n",
    "def Fibo_gen(idx, M):\n",
    "    mat_ans = [[1, 0], [0, 1]]\n",
    "    mat_unit = [[1, 1], [1, 0]]\n",
    "\n",
    "    while idx > 0:\n",
    "        if idx & 1:\n",
    "            mat_ans = Mat_mul(mat_ans, mat_unit, M)\n",
    "        mat_unit = Mat_mul(mat_unit, mat_unit, M)\n",
    "        idx >>= 1\n",
    "    return mat_ans[1][0]\n",
    "\n",
    "def Pesano_period(M,P,N):\n",
    "    n_modeM = N % M\n",
    "    a, b, c = 1, 0, 1\n",
    "    candidate = []\n",
    "    if N == 0:\n",
    "        candidate.append(0)\n",
    "    elif N == 1:\n",
    "        candidate.append(1)\n",
    "    for i in range(2,P+1):\n",
    "        c = (a + b) % M\n",
    "        b = a\n",
    "        a = c\n",
    "        if n_modeM == c:\n",
    "            candidate.append(i) # put 0 in first idx\n",
    "    return candidate\n",
    "\n",
    "def solve(N):\n",
    "    k = 3\n",
    "    M,P = Pesano(k)\n",
    "    candidate = Pesano_period(M,P,N) # minimum pesano(k=3) candidate\n",
    "    M *= 10 # compare with next mod\n",
    "    for k in range(3,13):\n",
    "        temp = []\n",
    "        for idx in candidate:\n",
    "            for m in range(10):\n",
    "                if Fibo_gen(idx + m*P, M)%M == N % M:\n",
    "                    temp.append(idx + m*P)\n",
    "        candidate = temp[:]\n",
    "        M, P = M*10, P*10 # bottom-top\n",
    "    print(-1 if (len(candidate) == 0)|(N==10**13) else min(candidate))\n",
    "\n",
    "N = int(input())\n",
    "solve(N)"
   ]
  },
  {
   "cell_type": "code",
   "execution_count": 240,
   "metadata": {},
   "outputs": [
    {
     "name": "stdout",
     "output_type": "stream",
     "text": [
      "True\n",
      "-1\n"
     ]
    }
   ],
   "source": [
    "candidate = [9366795780274]\n",
    "N = 7\n",
    "print((7==10^13))\n",
    "print(-1 if (len(candidate) == 0)|(N==10^13) else min(candidate))"
   ]
  },
  {
   "cell_type": "code",
   "execution_count": null,
   "metadata": {},
   "outputs": [],
   "source": [
    "from collections import deque\n",
    "\n",
    "N = 1000000\n",
    "A = [9,4,8,20,14,15,18]\n",
    "Dp = deque()\n",
    "\n",
    "\n"
   ]
  },
  {
   "cell_type": "code",
   "execution_count": 55,
   "metadata": {},
   "outputs": [
    {
     "name": "stdout",
     "output_type": "stream",
     "text": [
      "<queue.PriorityQueue object at 0x00000281B56BBA90>\n",
      "<queue.PriorityQueue object at 0x00000281B56BBA90>\n",
      "<queue.PriorityQueue object at 0x00000281B56BBA90>\n",
      "<queue.PriorityQueue object at 0x00000281B56BBA90>\n",
      "<queue.PriorityQueue object at 0x00000281B56BBA90>\n",
      "<queue.PriorityQueue object at 0x00000281B56BBA90>\n",
      "<queue.PriorityQueue object at 0x00000281B56BBA90>\n",
      "0\n"
     ]
    }
   ],
   "source": [
    "from queue import PriorityQueue\n",
    "\n",
    "Dp = PriorityQueue()\n",
    "n = 7\n",
    "numbers = [9,4,8,20,14,15,18]\n",
    "ans = 0\n",
    "\n",
    "for i in range(n):\n",
    "    num = numbers[i] - i\n",
    "\n",
    "    if (Dp[-1] > num) if not Dp.empty else 0:\n",
    "        Dp.put(num)\n",
    "        ans += Dp[-1] - num\n",
    "        Dp.get()\n",
    "        Dp.put(num)\n",
    "    else:\n",
    "        Dp.put(num)\n",
    "    print(Dp)\n",
    "\n",
    "print(ans)"
   ]
  },
  {
   "cell_type": "code",
   "execution_count": 33,
   "metadata": {},
   "outputs": [
    {
     "name": "stdout",
     "output_type": "stream",
     "text": [
      "4\n"
     ]
    }
   ],
   "source": [
    "from queue import PriorityQueue\n",
    "\n",
    "Dp = PriorityQueue()\n",
    "n = 7\n",
    "numbers = [9,4,8,20,14,15,18]\n",
    "ans = 0\n",
    "\n",
    "for i in range(n):\n",
    "    num = numbers[i]\n",
    "    Dp.put(num)\n",
    "\n",
    "print(Dp.get())\n"
   ]
  },
  {
   "cell_type": "code",
   "execution_count": 50,
   "metadata": {},
   "outputs": [
    {
     "name": "stdout",
     "output_type": "stream",
     "text": [
      "9\n",
      "4\n",
      "8\n",
      "20\n",
      "14\n",
      "15\n",
      "18\n",
      "[4, 9, 8, 20, 14, 15, 18]\n"
     ]
    }
   ],
   "source": [
    "import heapq\n",
    "\n",
    "heap = []\n",
    "n = 7\n",
    "numbers = [9,4,8,20,14,15,18]\n",
    "ans = 0\n",
    "\n",
    "for i in range(n):\n",
    "    num = numbers[i]\n",
    "    print(num)\n",
    "    heapq.heappush(heap,num)\n",
    "# heappop\n",
    "print(heap[:])\n",
    "\n",
    "# [9,4,8,20,14,15,18]\n",
    "# [9] > [9 3] > [3] > [3 3]\n",
    "# [3 3] > [6 3 3] \n",
    "# [6 3 3] > [17 6 3 3]\n",
    "# [17 6 3 3] > [17 10 3 3 6] > [10 3 3 6] > [10 10 3 3 6]\n",
    "# [10 10 3 3 6] > [10 10 10 3 3 6]\n",
    "# [10 10 10 3 3 6] > [12 10 10 3 3 6 10]\n",
    "# [12 10 10 3 3 6 10]"
   ]
  },
  {
   "cell_type": "code",
   "execution_count": 59,
   "metadata": {},
   "outputs": [
    {
     "name": "stdout",
     "output_type": "stream",
     "text": [
      "[9]\n",
      "[3, 9]\n",
      "[3, 9, 6]\n",
      "[3, 9, 6, 17]\n",
      "[3, 9, 6, 17, 10]\n",
      "[3, 9, 6, 17, 10, 10]\n",
      "[3, 9, 6, 17, 10, 10, 12]\n",
      "0\n"
     ]
    }
   ],
   "source": [
    "import heapq\n",
    "\n",
    "heap = []\n",
    "n = 7\n",
    "numbers = [9,4,8,20,14,15,18]\n",
    "ans = 0\n",
    "\n",
    "for i in range(n):\n",
    "    num = numbers[i] - i\n",
    "\n",
    "    if (heap[0] > num) if len(heap) != 0 else 0:\n",
    "        heapq.heappush(heap,num)\n",
    "        ans += heap[0] - num\n",
    "        heapq.heappop(heap)\n",
    "        heapq.heappush(heap,num)\n",
    "    else:\n",
    "        heapq.heappush(heap,num)\n",
    "    print(heap)\n",
    "\n",
    "print(ans)"
   ]
  },
  {
   "cell_type": "code",
   "execution_count": 87,
   "metadata": {},
   "outputs": [
    {
     "ename": "IndexError",
     "evalue": "list index out of range",
     "output_type": "error",
     "traceback": [
      "\u001b[1;31m---------------------------------------------------------------------------\u001b[0m",
      "\u001b[1;31mIndexError\u001b[0m                                Traceback (most recent call last)",
      "Cell \u001b[1;32mIn[87], line 7\u001b[0m\n\u001b[0;32m      5\u001b[0m pq, ans \u001b[39m=\u001b[39m [], \u001b[39m0\u001b[39m\n\u001b[0;32m      6\u001b[0m \u001b[39mfor\u001b[39;00m i \u001b[39min\u001b[39;00m \u001b[39mrange\u001b[39m(n):\n\u001b[1;32m----> 7\u001b[0m     num \u001b[39m=\u001b[39m i \u001b[39m-\u001b[39m A[i]\n\u001b[0;32m      8\u001b[0m     \u001b[39mif\u001b[39;00m pq \u001b[39mand\u001b[39;00m \u001b[39mabs\u001b[39m(pq[\u001b[39m0\u001b[39m]) \u001b[39m>\u001b[39m num:\n\u001b[0;32m      9\u001b[0m         heapq\u001b[39m.\u001b[39mheappush(pq, num)\n",
      "\u001b[1;31mIndexError\u001b[0m: list index out of range"
     ]
    }
   ],
   "source": [
    "import heapq\n",
    "\n",
    "n = int(input())\n",
    "A = list(map(int,input().split(' ')))\n",
    "pq, ans = [], 0\n",
    "for i in range(n):\n",
    "    num = i - A[i]\n",
    "    if pq and abs(pq[0]) > num:\n",
    "        heapq.heappush(pq, num)\n",
    "        ans += (num - pq[0])\n",
    "        heapq.heappop(pq)\n",
    "        heapq.heappush(pq, num)\n",
    "    else:\n",
    "        heapq.heappush(pq, num)\n",
    "print(ans)"
   ]
  },
  {
   "cell_type": "code",
   "execution_count": 143,
   "metadata": {},
   "outputs": [],
   "source": [
    "import sys\n",
    "import heapq\n",
    "\n",
    "n = int(sys.stdin.readline().strip())\n",
    "A = list(map(int,sys.stdin.readline().split()))\n",
    "pq, ans = [], 0\n",
    "for i in range(n):\n",
    "    num = i - A[i]\n",
    "    if pq and pq[0] < num:\n",
    "        ans += (num - pq[0])\n",
    "        heapq.heappush(pq, num)\n",
    "        heapq.heappop(pq)\n",
    "        heapq.heappush(pq, num)\n",
    "    else:\n",
    "        heapq.heappush(pq, num)\n",
    "print(ans)"
   ]
  },
  {
   "cell_type": "code",
   "execution_count": 5,
   "metadata": {},
   "outputs": [
    {
     "name": "stdout",
     "output_type": "stream",
     "text": [
      "12\n"
     ]
    }
   ],
   "source": [
    "import sys\n",
    "import heapq\n",
    "\n",
    "A = [9,4,8,20,14,15,18]\n",
    "A = [5,4,3,2,1]\n",
    "n = len(A)\n",
    "\n",
    "pq, ans = [], 0\n",
    "for i in range(n):\n",
    "    num = i - A[i]\n",
    "    if pq and pq[0] < num:\n",
    "        ans += (num - pq[0])\n",
    "        heapq.heappush(pq, num)\n",
    "        heapq.heappop(pq)\n",
    "        heapq.heappush(pq, num)\n",
    "    else:\n",
    "        heapq.heappush(pq, num)\n",
    "print(ans)"
   ]
  },
  {
   "cell_type": "code",
   "execution_count": 74,
   "metadata": {},
   "outputs": [],
   "source": [
    "# [9,4,8,20,14,15,18]\n",
    "# 1 [9] > [9 3] > [3] > [3 3]\n",
    "# 2 [3 3] > [6 3 3] \n",
    "# 3 [6 3 3] > [17 6 3 3]\n",
    "# 4 [17 6 3 3] > [17 10 3 3 6] > [10 3 3 6] > [10 10 3 3 6]\n",
    "# 5 [10 10 3 3 6] > [10 10 10 3 3 6]\n",
    "# 6 [10 10 10 3 3 6] > [12 10 10 3 3 6 10]\n",
    "# 7 [12 10 10 3 3 6 10]\n",
    "\n",
    "from queue import PriorityQueue\n",
    "\n",
    "Dp = PriorityQueue()\n",
    "n = 7\n",
    "numbers = [9,4,8,20,14,15,18]\n",
    "ans = 0\n",
    "for i in range(n):\n",
    "    numbers[i] = -(numbers[i] - i)\n",
    "\n",
    "\n",
    "Dp.put(numbers[0])\n",
    "\n",
    "Dp.put(numbers[1])\n",
    "Dp.get()\n",
    "Dp.put(numbers[1])\n",
    "\n",
    "Dp.put(numbers[2])\n",
    "\n",
    "Dp.put(numbers[3])\n",
    "\n",
    "Dp.put(numbers[4])\n",
    "Dp.get()\n",
    "Dp.put(numbers[4])"
   ]
  },
  {
   "cell_type": "code",
   "execution_count": null,
   "metadata": {},
   "outputs": [],
   "source": [
    "import sys; input = sys.stdin.readline\n",
    "\n",
    "def bip_match(n, m): # 이분 매칭\n",
    "    for nn, mm in [(n, m - 1), (n, m + 1), (n - 1, m - 1), (n - 1, m + 1), (n + 1, m - 1), (n + 1, m + 1)]: # 6방향으로 탐색\n",
    "        if 0 <= nn < N and 0 <= mm < M and not visited[nn][mm] and seat[nn][mm]:\n",
    "            visited[nn][mm] = True\n",
    "            if connect[nn][mm] == [-1, -1] or bip_match(connect[nn][mm][0], connect[nn][mm][1]):\n",
    "                connect[nn][mm] = [n, m]       \n",
    "                return True\n",
    "    return False\n",
    "\n",
    "for _ in range(int(input())):\n",
    "    N, M = map(int, input().split())\n",
    "    matrix = [input().strip() for _ in range(N)]\n",
    "    \n",
    "    seat = [[False] * M for _ in range(N)] # 앉을 수 있는 자리인지 저장하기 위한 행렬\n",
    "    answer = 0\n",
    "    for n in range(N):\n",
    "        for m in range(M):\n",
    "            if matrix[n][m] == '.':\n",
    "                seat[n][m] = True\n",
    "                answer += 1 # 앉을 수 있는 자리이면 seat 갱신해주고 answer에 자리 수 저장\n",
    "                \n",
    "    connect = [[[-1] * 2 for _ in range(M)] for __ in range(N)] # 각 자리 별 연결 위치를 저장하는 행렬\n",
    "    for n in range(N):\n",
    "        for m in range(0, M, 2): # 여기서 짝수로 해도 되고 홀수로 해도 된다. 물론, 둘 다 하면 안된다.\n",
    "            if seat[n][m]:\n",
    "                visited = [[False] * M for _ in range(N)]\n",
    "                if bip_match(n, m):\n",
    "                    answer -= 1 # 이분 매칭이 될 때마다 앉을 수 있는 자리가 하나씩 줄어든다\n",
    "                    \n",
    "    print(answer)"
   ]
  }
 ],
 "metadata": {
  "kernelspec": {
   "display_name": "Python 3",
   "language": "python",
   "name": "python3"
  },
  "language_info": {
   "codemirror_mode": {
    "name": "ipython",
    "version": 3
   },
   "file_extension": ".py",
   "mimetype": "text/x-python",
   "name": "python",
   "nbconvert_exporter": "python",
   "pygments_lexer": "ipython3",
   "version": "3.9.13"
  },
  "orig_nbformat": 4
 },
 "nbformat": 4,
 "nbformat_minor": 2
}
